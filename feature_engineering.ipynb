{
  "cells": [
    {
      "cell_type": "markdown",
      "source": [
        "# **Random Forest Classifier**"
      ],
      "metadata": {
        "id": "Z5h6OCfZYFKU"
      }
    },
    {
      "cell_type": "code",
      "source": [
        "import pandas as pd\n",
        "from sklearn.ensemble import RandomForestClassifier\n",
        "from sklearn.model_selection import train_test_split\n",
        "from sklearn.metrics import accuracy_score, precision_score, recall_score, f1_score"
      ],
      "metadata": {
        "id": "zrusDHp0PV0a"
      },
      "execution_count": null,
      "outputs": []
    },
    {
      "cell_type": "code",
      "source": [
        "\"\"\"\n",
        "Load The Dataset on your own into google collab from your computer \n",
        "1)client_data.csv = https://cdn.theforage.com/vinternships/companyassets/SKZxezskWgmFjRvj9/BqF6gmrmLunCkdqKM/1639044685365/client_data.csv\n",
        "2)price_data.csv = https://cdn.theforage.com/vinternships/companyassets/SKZxezskWgmFjRvj9/BqF6gmrmLunCkdqKM/1639044717433/price_data.csv\n",
        "\"\"\"\n",
        "# Step 1: Load the cleaned dataset\n",
        "client_data = pd.read_csv('client_data.csv')\n",
        "price_data = pd.read_csv('price_data.csv')"
      ],
      "metadata": {
        "id": "4oAuNIY0PXXy"
      },
      "execution_count": null,
      "outputs": []
    },
    {
      "cell_type": "code",
      "source": [
        "# Step 2: Calculate the feature - difference between off-peak prices in December and January of the preceding year\n",
        "price_data['price_date'] = pd.to_datetime(price_data['price_date'], errors='coerce')\n",
        "price_data['year'] = price_data['price_date'].dt.year\n",
        "price_data['month'] = price_data['price_date'].dt.month\n",
        "dec_price = price_data[(price_data['month'] == 12) & (price_data['year'] > 0)]['price_off_peak_var']\n",
        "jan_price = price_data[(price_data['month'] == 1) & (price_data['year'] > 0)]['price_off_peak_var']\n",
        "price_diff = dec_price.reset_index(drop=True) - jan_price.reset_index(drop=True)"
      ],
      "metadata": {
        "id": "3DJRxsQoQNlF"
      },
      "execution_count": null,
      "outputs": []
    },
    {
      "cell_type": "code",
      "source": [
        "import matplotlib.pyplot as plt\n",
        "# Step 3: Evaluate the feature\n",
        "print(price_diff.describe())  # Statistical summary of the feature\n",
        "\n",
        "# Histogram to visualize the distribution\n",
        "plt.hist(price_diff, bins=10)\n",
        "plt.xlabel('Price Difference')\n",
        "plt.ylabel('Frequency')\n",
        "plt.title('Histogram of Price Difference')\n",
        "plt.show()\n",
        "  "
      ],
      "metadata": {
        "colab": {
          "base_uri": "https://localhost:8080/",
          "height": 628
        },
        "id": "9sg4A_TRQjUS",
        "outputId": "06d08c22-89b9-40dc-c450-9364a6bfe974"
      },
      "execution_count": null,
      "outputs": [
        {
          "output_type": "stream",
          "name": "stdout",
          "text": [
            "count    918.000000\n",
            "mean      -0.004926\n",
            "std        0.032734\n",
            "min       -0.184069\n",
            "25%       -0.021938\n",
            "50%       -0.005508\n",
            "75%        0.013917\n",
            "max        0.163716\n",
            "Name: price_off_peak_var, dtype: float64\n"
          ]
        },
        {
          "output_type": "display_data",
          "data": {
            "text/plain": [
              "<Figure size 640x480 with 1 Axes>"
            ],
            "image/png": "[encoded data removed]"
          },
          "metadata": {}
        }
      ]
    },
    {
      "cell_type": "code",
      "source": [
        "# Step 4: Prepare the data for modeling\n",
        "# Combine the feature with other relevant columns from the client_data\n",
        "from sklearn.preprocessing import LabelEncoder\n",
        "\n",
        "features = client_data[['cons_12m', 'cons_gas_12m', 'cons_last_month', 'forecast_cons_12m',\n",
        "                        'forecast_cons_year', 'forecast_discount_energy', 'forecast_meter_rent_12m',\n",
        "                        'forecast_price_energy_off_peak', 'forecast_price_energy_peak',\n",
        "                        'forecast_price_pow_off_peak', 'has_gas', 'imp_cons', 'margin_gross_pow_ele',\n",
        "                        'margin_net_pow_ele', 'nb_prod_act', 'net_margin', 'num_years_antig',\n",
        "                        'origin_up', 'pow_max']].copy()  # Create a copy of the DataFrame\n",
        "features.loc[:, 'price_diff'] = price_diff  # Assign the values using .loc\n",
        "\n",
        "labels = client_data['churn']\n",
        "\n",
        "# Convert 'cons_12m' column to integer\n",
        "features['cons_12m'] = features['cons_12m'].astype(int)\n",
        "\n",
        "# Convert 'cons_gas_12m' column to integer\n",
        "features['cons_gas_12m'] = features['cons_gas_12m'].astype(int)\n",
        "\n",
        "# Convert 'cons_last_month' column to integer\n",
        "features['cons_last_month'] = features['cons_last_month'].astype(int)\n",
        "\n",
        "# Convert 'forecast_cons_12m' column to float\n",
        "features['forecast_cons_12m'] = features['forecast_cons_12m'].astype(float)\n",
        "\n",
        "# Convert 'forecast_cons_year' column to integer\n",
        "features['forecast_cons_year'] = features['forecast_cons_year'].astype(int)\n",
        "\n",
        "# Convert 'forecast_discount_energy' column to integer\n",
        "features['forecast_discount_energy'] = features['forecast_discount_energy'].astype(int)\n",
        "\n",
        "# Convert 'forecast_meter_rent_12m' column to float\n",
        "features['forecast_meter_rent_12m'] = features['forecast_meter_rent_12m'].astype(float)\n",
        "\n",
        "# Convert 'forecast_price_energy_off_peak' column to float\n",
        "features['forecast_price_energy_off_peak'] = features['forecast_price_energy_off_peak'].astype(float)\n",
        "\n",
        "#Handle categorical columns\n",
        "label_encoder = LabelEncoder()\n",
        "categorical_columns = ['has_gas', 'origin_up']\n",
        "for column in categorical_columns:\n",
        "    features[column] = label_encoder.fit_transform(features[column])\n",
        "\n"
      ],
      "metadata": {
        "id": "annX8WCaRCiV"
      },
      "execution_count": null,
      "outputs": []
    },
    {
      "cell_type": "code",
      "source": [
        "# Step 5: Split the data into training and testing sets\n",
        "# Split the encoded features into training and testing sets\n",
        "from sklearn.impute import SimpleImputer\n",
        "\n",
        "\n",
        "\n",
        "X_train, X_test, y_train, y_test = train_test_split(features, labels, test_size=0.2, random_state=42)\n",
        "\n",
        "# Update the labels accordingly\n",
        "X_train = X_train.dropna()\n",
        "y_train = y_train[X_train.index]\n",
        "\n",
        "imputer = SimpleImputer(strategy='mean')\n",
        "X_train = imputer.fit_transform(X_train)\n",
        "\n",
        "X_test = X_test.dropna()\n",
        "y_test = y_test[X_test.index]\n",
        "\n",
        "imputer = SimpleImputer(strategy='mean')\n",
        "X_test = imputer.fit_transform(X_test)\n"
      ],
      "metadata": {
        "id": "eo9v-Ui3Soq7"
      },
      "execution_count": null,
      "outputs": []
    },
    {
      "cell_type": "code",
      "source": [
        "# Step 6: Train the Random Forest classifier\n",
        "rf_classifier = RandomForestClassifier(n_estimators=100, random_state=42)\n",
        "rf_classifier.fit(X_train, y_train)"
      ],
      "metadata": {
        "colab": {
          "base_uri": "https://localhost:8080/",
          "height": 74
        },
        "id": "8K_DGrWySsfK",
        "outputId": "635d7061-3b73-4f3a-ee4e-dc9b4314e706"
      },
      "execution_count": null,
      "outputs": [
        {
          "output_type": "execute_result",
          "data": {
            "text/plain": [
              "RandomForestClassifier(random_state=42)"
            ],
            "text/html": [
              "<style>#sk-container-id-2 {color: black;background-color: white;}#sk-container-id-2 pre{padding: 0;}#sk-container-id-2 div.sk-toggleable {background-color: white;}#sk-container-id-2 label.sk-toggleable__label {cursor: pointer;display: block;width: 100%;margin-bottom: 0;padding: 0.3em;box-sizing: border-box;text-align: center;}#sk-container-id-2 label.sk-toggleable__label-arrow:before {content: \"▸\";float: left;margin-right: 0.25em;color: #696969;}#sk-container-id-2 label.sk-toggleable__label-arrow:hover:before {color: black;}#sk-container-id-2 div.sk-estimator:hover label.sk-toggleable__label-arrow:before {color: black;}#sk-container-id-2 div.sk-toggleable__content {max-height: 0;max-width: 0;overflow: hidden;text-align: left;background-color: #f0f8ff;}#sk-container-id-2 div.sk-toggleable__content pre {margin: 0.2em;color: black;border-radius: 0.25em;background-color: #f0f8ff;}#sk-container-id-2 input.sk-toggleable__control:checked~div.sk-toggleable__content {max-height: 200px;max-width: 100%;overflow: auto;}#sk-container-id-2 input.sk-toggleable__control:checked~label.sk-toggleable__label-arrow:before {content: \"▾\";}#sk-container-id-2 div.sk-estimator input.sk-toggleable__control:checked~label.sk-toggleable__label {background-color: #d4ebff;}#sk-container-id-2 div.sk-label input.sk-toggleable__control:checked~label.sk-toggleable__label {background-color: #d4ebff;}#sk-container-id-2 input.sk-hidden--visually {border: 0;clip: rect(1px 1px 1px 1px);clip: rect(1px, 1px, 1px, 1px);height: 1px;margin: -1px;overflow: hidden;padding: 0;position: absolute;width: 1px;}#sk-container-id-2 div.sk-estimator {font-family: monospace;background-color: #f0f8ff;border: 1px dotted black;border-radius: 0.25em;box-sizing: border-box;margin-bottom: 0.5em;}#sk-container-id-2 div.sk-estimator:hover {background-color: #d4ebff;}#sk-container-id-2 div.sk-parallel-item::after {content: \"\";width: 100%;border-bottom: 1px solid gray;flex-grow: 1;}#sk-container-id-2 div.sk-label:hover label.sk-toggleable__label {background-color: #d4ebff;}#sk-container-id-2 div.sk-serial::before {content: \"\";position: absolute;border-left: 1px solid gray;box-sizing: border-box;top: 0;bottom: 0;left: 50%;z-index: 0;}#sk-container-id-2 div.sk-serial {display: flex;flex-direction: column;align-items: center;background-color: white;padding-right: 0.2em;padding-left: 0.2em;position: relative;}#sk-container-id-2 div.sk-item {position: relative;z-index: 1;}#sk-container-id-2 div.sk-parallel {display: flex;align-items: stretch;justify-content: center;background-color: white;position: relative;}#sk-container-id-2 div.sk-item::before, #sk-container-id-2 div.sk-parallel-item::before {content: \"\";position: absolute;border-left: 1px solid gray;box-sizing: border-box;top: 0;bottom: 0;left: 50%;z-index: -1;}#sk-container-id-2 div.sk-parallel-item {display: flex;flex-direction: column;z-index: 1;position: relative;background-color: white;}#sk-container-id-2 div.sk-parallel-item:first-child::after {align-self: flex-end;width: 50%;}#sk-container-id-2 div.sk-parallel-item:last-child::after {align-self: flex-start;width: 50%;}#sk-container-id-2 div.sk-parallel-item:only-child::after {width: 0;}#sk-container-id-2 div.sk-dashed-wrapped {border: 1px dashed gray;margin: 0 0.4em 0.5em 0.4em;box-sizing: border-box;padding-bottom: 0.4em;background-color: white;}#sk-container-id-2 div.sk-label label {font-family: monospace;font-weight: bold;display: inline-block;line-height: 1.2em;}#sk-container-id-2 div.sk-label-container {text-align: center;}#sk-container-id-2 div.sk-container {/* jupyter's `normalize.less` sets `[hidden] { display: none; }` but bootstrap.min.css set `[hidden] { display: none !important; }` so we also need the `!important` here to be able to override the default hidden behavior on the sphinx rendered scikit-learn.org. See: https://github.com/scikit-learn/scikit-learn/issues/21755 */display: inline-block !important;position: relative;}#sk-container-id-2 div.sk-text-repr-fallback {display: none;}</style><div id=\"sk-container-id-2\" class=\"sk-top-container\"><div class=\"sk-text-repr-fallback\"><pre>RandomForestClassifier(random_state=42)</pre><b>In a Jupyter environment, please rerun this cell to show the HTML representation or trust the notebook. <br />On GitHub, the HTML representation is unable to render, please try loading this page with nbviewer.org.</b></div><div class=\"sk-container\" hidden><div class=\"sk-item\"><div class=\"sk-estimator sk-toggleable\"><input class=\"sk-toggleable__control sk-hidden--visually\" id=\"sk-estimator-id-2\" type=\"checkbox\" checked><label for=\"sk-estimator-id-2\" class=\"sk-toggleable__label sk-toggleable__label-arrow\">RandomForestClassifier</label><div class=\"sk-toggleable__content\"><pre>RandomForestClassifier(random_state=42)</pre></div></div></div></div></div>"
            ]
          },
          "metadata": {},
          "execution_count": 42
        }
      ]
    },
    {
      "cell_type": "code",
      "source": [
        "\n",
        "# Step 7: Make predictions on the test set\n",
        "y_pred = rf_classifier.predict(X_test)\n"
      ],
      "metadata": {
        "id": "p7EOzj4yWwqM"
      },
      "execution_count": null,
      "outputs": []
    },
    {
      "cell_type": "code",
      "source": [
        "# Step 8: Evaluate the model performance\n",
        "accuracy = accuracy_score(y_test, y_pred)\n",
        "precision = precision_score(y_test, y_pred)\n",
        "recall = recall_score(y_test, y_pred)\n",
        "f1 = f1_score(y_test, y_pred)"
      ],
      "metadata": {
        "id": "yj_5fvdZXH-C"
      },
      "execution_count": null,
      "outputs": []
    },
    {
      "cell_type": "code",
      "source": [
        "# Step 9: Print the evaluation metrics\n",
        "print(\"Accuracy:\", accuracy)\n",
        "print(\"Precision:\", precision)\n",
        "print(\"Recall:\", recall)\n",
        "print(\"F1 Score:\", f1)"
      ],
      "metadata": {
        "colab": {
          "base_uri": "https://localhost:8080/"
        },
        "id": "hfD0BZf_XKgA",
        "outputId": "529daacd-34e7-4ed7-a9cd-5a1bf05130a7"
      },
      "execution_count": null,
      "outputs": [
        {
          "output_type": "stream",
          "name": "stdout",
          "text": [
            "Accuracy: 0.8917525773195877\n",
            "Precision: 0.0\n",
            "Recall: 0.0\n",
            "F1 Score: 0.0\n"
          ]
        }
      ]
    },
    {
      "cell_type": "markdown",
      "source": [
        "**Performance**\n",
        "\n",
        "* **Accuracy:** \n",
        "\n",
        "It measures the overall correctness of the model's predictions. In this case, an accuracy of 0.8917 means that the model correctly predicted the churn or non-churn status of approximately 89.17% of the samples in the test set.\n",
        "\n",
        "* **Precision:** \n",
        "\n",
        "It represents the ability of the model to correctly identify the positive class (churn) out of all the instances it predicted as positive. A precision of 0.0 means that the model did not correctly predict any positive instances in the test set. This implies that all the instances predicted as positive were actually negative.\n",
        "\n",
        "* **Recall:**  \n",
        "\n",
        "It indicates the ability of the model to find all the positive instances (churn) out of the actual positive instances in the test set. A recall of 0.0 means that the model did not identify any positive instances correctly. It missed all the actual positive instances in the test set.\n",
        "\n",
        "* **F1 Score:** \n",
        "\n",
        "It is the harmonic mean of precision and recall and provides a balanced measure of the model's performance. A value of 0.0 indicates that both precision and recall are 0.0, meaning the model performed poorly in terms of correctly identifying positive instances."
      ],
      "metadata": {
        "id": "SniBPpKQXwgn"
      }
    },
    {
      "cell_type": "markdown",
      "source": [
        "# **Updating The Performace of Random Forest Classifier**# "
      ],
      "metadata": {
        "id": "dKl423mZYhAy"
      }
    },
    {
      "cell_type": "code",
      "source": [
        "import pandas as pd\n",
        "from sklearn.ensemble import RandomForestClassifier\n",
        "from sklearn.model_selection import train_test_split\n",
        "from sklearn.metrics import accuracy_score, precision_score, recall_score, f1_score\n",
        "from sklearn.impute import SimpleImputer\n",
        "from sklearn.preprocessing import LabelEncoder"
      ],
      "metadata": {
        "id": "TUu-SqVbYj9j"
      },
      "execution_count": null,
      "outputs": []
    },
    {
      "cell_type": "code",
      "source": [
        "# Step 1: Load the cleaned dataset\n",
        "client_data = pd.read_csv('client_data.csv')\n",
        "price_data = pd.read_csv('price_data.csv')"
      ],
      "metadata": {
        "id": "JWxv1ddpZPxw"
      },
      "execution_count": null,
      "outputs": []
    },
    {
      "cell_type": "code",
      "source": [
        "# Step 2: Calculate the feature - difference between off-peak prices in December and January of the preceding year\n",
        "price_data['price_date'] = pd.to_datetime(price_data['price_date'], errors='coerce')\n",
        "price_data['year'] = price_data['price_date'].dt.year\n",
        "price_data['month'] = price_data['price_date'].dt.month\n",
        "dec_price = price_data[(price_data['month'] == 12) & (price_data['year'] > 0)]['price_off_peak_var']\n",
        "jan_price = price_data[(price_data['month'] == 1) & (price_data['year'] > 0)]['price_off_peak_var']\n",
        "price_diff = dec_price.reset_index(drop=True) - jan_price.reset_index(drop=True)"
      ],
      "metadata": {
        "id": "1shkBOS8n75E"
      },
      "execution_count": null,
      "outputs": []
    },
    {
      "cell_type": "code",
      "source": [
        "# Step 3: Evaluate the feature\n",
        "print(price_diff.describe())  # Statistical summary of the feature"
      ],
      "metadata": {
        "colab": {
          "base_uri": "https://localhost:8080/"
        },
        "id": "mQ8EF7wWoBzp",
        "outputId": "4e1255c9-d20b-4af1-8ecb-69f82568e452"
      },
      "execution_count": null,
      "outputs": [
        {
          "output_type": "stream",
          "name": "stdout",
          "text": [
            "count    16070.000000\n",
            "mean        -0.004538\n",
            "std          0.034757\n",
            "min         -0.188983\n",
            "25%         -0.027024\n",
            "50%         -0.005533\n",
            "75%          0.016684\n",
            "max          0.231467\n",
            "Name: price_off_peak_var, dtype: float64\n"
          ]
        }
      ]
    },
    {
      "cell_type": "code",
      "source": [
        "# Step 4: Prepare the data for modeling\n",
        "features = client_data[['cons_12m', 'cons_gas_12m', 'cons_last_month', 'forecast_cons_12m',\n",
        "                        'forecast_cons_year', 'forecast_discount_energy', 'forecast_meter_rent_12m',\n",
        "                        'forecast_price_energy_off_peak', 'forecast_price_energy_peak',\n",
        "                        'forecast_price_pow_off_peak', 'has_gas', 'imp_cons', 'margin_gross_pow_ele',\n",
        "                        'margin_net_pow_ele', 'nb_prod_act', 'net_margin', 'num_years_antig',\n",
        "                        'origin_up', 'pow_max']].copy()"
      ],
      "metadata": {
        "id": "M1WjHf2HsgD7"
      },
      "execution_count": null,
      "outputs": []
    },
    {
      "cell_type": "code",
      "source": [
        "# Handle categorical columns\n",
        "label_encoder = LabelEncoder()\n",
        "categorical_columns = ['has_gas', 'origin_up']\n",
        "for column in categorical_columns:\n",
        "    features[column] = label_encoder.fit_transform(features[column])\n",
        "\n",
        "# Feature engineering\n",
        "features['cons_last_3m'] = features['cons_12m'] - features['cons_last_month']\n",
        "features['cons_change_pct'] = (features['cons_12m'] - features['cons_12m'].shift(12)) / features['cons_12m'].shift(12)\n",
        "features['avg_price_per_unit'] = features['margin_gross_pow_ele'] / features['cons_12m']\n",
        "features['interaction_forecast_margin'] = features['forecast_cons_12m'] * features['margin_gross_pow_ele']\n",
        "numeric_columns = ['has_gas', 'nb_prod_act']\n",
        "features['total_products'] = features[numeric_columns].sum(axis=1)\n",
        "\n",
        "labels = client_data['churn']\n"
      ],
      "metadata": {
        "id": "vG0mnJaes-em"
      },
      "execution_count": null,
      "outputs": []
    },
    {
      "cell_type": "code",
      "source": [
        "# Step 5: Split the data into training and testing sets\n",
        "X_train, X_test, y_train, y_test = train_test_split(features, labels, test_size=0.2, random_state=42)\n"
      ],
      "metadata": {
        "id": "UaYW5w0ztPq1"
      },
      "execution_count": null,
      "outputs": []
    },
    {
      "cell_type": "code",
      "source": [
        "\n",
        "# Step 6: Handle missing values\n",
        "\n",
        "# Replace infinity and large values with NaN\n",
        "X_train = np.where(np.isfinite(X_train), X_train, np.nan)\n",
        "X_test = np.where(np.isfinite(X_test), X_test, np.nan)\n"
      ],
      "metadata": {
        "id": "dQFVn7ams6yW"
      },
      "execution_count": null,
      "outputs": []
    },
    {
      "cell_type": "code",
      "source": [
        "\n",
        "# Step 7: Train the Random Forest classifier\n",
        "rf_classifier = RandomForestClassifier(n_estimators=100, random_state=42)\n",
        "rf_classifier.fit(X_train, y_train)"
      ],
      "metadata": {
        "colab": {
          "base_uri": "https://localhost:8080/",
          "height": 74
        },
        "id": "8PT8CDFrt7qz",
        "outputId": "7f9140b9-ac44-45f5-a85b-bf2c3bbe1919"
      },
      "execution_count": null,
      "outputs": [
        {
          "output_type": "execute_result",
          "data": {
            "text/plain": [
              "RandomForestClassifier(random_state=42)"
            ],
            "text/html": [
              "<style>#sk-container-id-3 {color: black;background-color: white;}#sk-container-id-3 pre{padding: 0;}#sk-container-id-3 div.sk-toggleable {background-color: white;}#sk-container-id-3 label.sk-toggleable__label {cursor: pointer;display: block;width: 100%;margin-bottom: 0;padding: 0.3em;box-sizing: border-box;text-align: center;}#sk-container-id-3 label.sk-toggleable__label-arrow:before {content: \"▸\";float: left;margin-right: 0.25em;color: #696969;}#sk-container-id-3 label.sk-toggleable__label-arrow:hover:before {color: black;}#sk-container-id-3 div.sk-estimator:hover label.sk-toggleable__label-arrow:before {color: black;}#sk-container-id-3 div.sk-toggleable__content {max-height: 0;max-width: 0;overflow: hidden;text-align: left;background-color: #f0f8ff;}#sk-container-id-3 div.sk-toggleable__content pre {margin: 0.2em;color: black;border-radius: 0.25em;background-color: #f0f8ff;}#sk-container-id-3 input.sk-toggleable__control:checked~div.sk-toggleable__content {max-height: 200px;max-width: 100%;overflow: auto;}#sk-container-id-3 input.sk-toggleable__control:checked~label.sk-toggleable__label-arrow:before {content: \"▾\";}#sk-container-id-3 div.sk-estimator input.sk-toggleable__control:checked~label.sk-toggleable__label {background-color: #d4ebff;}#sk-container-id-3 div.sk-label input.sk-toggleable__control:checked~label.sk-toggleable__label {background-color: #d4ebff;}#sk-container-id-3 input.sk-hidden--visually {border: 0;clip: rect(1px 1px 1px 1px);clip: rect(1px, 1px, 1px, 1px);height: 1px;margin: -1px;overflow: hidden;padding: 0;position: absolute;width: 1px;}#sk-container-id-3 div.sk-estimator {font-family: monospace;background-color: #f0f8ff;border: 1px dotted black;border-radius: 0.25em;box-sizing: border-box;margin-bottom: 0.5em;}#sk-container-id-3 div.sk-estimator:hover {background-color: #d4ebff;}#sk-container-id-3 div.sk-parallel-item::after {content: \"\";width: 100%;border-bottom: 1px solid gray;flex-grow: 1;}#sk-container-id-3 div.sk-label:hover label.sk-toggleable__label {background-color: #d4ebff;}#sk-container-id-3 div.sk-serial::before {content: \"\";position: absolute;border-left: 1px solid gray;box-sizing: border-box;top: 0;bottom: 0;left: 50%;z-index: 0;}#sk-container-id-3 div.sk-serial {display: flex;flex-direction: column;align-items: center;background-color: white;padding-right: 0.2em;padding-left: 0.2em;position: relative;}#sk-container-id-3 div.sk-item {position: relative;z-index: 1;}#sk-container-id-3 div.sk-parallel {display: flex;align-items: stretch;justify-content: center;background-color: white;position: relative;}#sk-container-id-3 div.sk-item::before, #sk-container-id-3 div.sk-parallel-item::before {content: \"\";position: absolute;border-left: 1px solid gray;box-sizing: border-box;top: 0;bottom: 0;left: 50%;z-index: -1;}#sk-container-id-3 div.sk-parallel-item {display: flex;flex-direction: column;z-index: 1;position: relative;background-color: white;}#sk-container-id-3 div.sk-parallel-item:first-child::after {align-self: flex-end;width: 50%;}#sk-container-id-3 div.sk-parallel-item:last-child::after {align-self: flex-start;width: 50%;}#sk-container-id-3 div.sk-parallel-item:only-child::after {width: 0;}#sk-container-id-3 div.sk-dashed-wrapped {border: 1px dashed gray;margin: 0 0.4em 0.5em 0.4em;box-sizing: border-box;padding-bottom: 0.4em;background-color: white;}#sk-container-id-3 div.sk-label label {font-family: monospace;font-weight: bold;display: inline-block;line-height: 1.2em;}#sk-container-id-3 div.sk-label-container {text-align: center;}#sk-container-id-3 div.sk-container {/* jupyter's `normalize.less` sets `[hidden] { display: none; }` but bootstrap.min.css set `[hidden] { display: none !important; }` so we also need the `!important` here to be able to override the default hidden behavior on the sphinx rendered scikit-learn.org. See: https://github.com/scikit-learn/scikit-learn/issues/21755 */display: inline-block !important;position: relative;}#sk-container-id-3 div.sk-text-repr-fallback {display: none;}</style><div id=\"sk-container-id-3\" class=\"sk-top-container\"><div class=\"sk-text-repr-fallback\"><pre>RandomForestClassifier(random_state=42)</pre><b>In a Jupyter environment, please rerun this cell to show the HTML representation or trust the notebook. <br />On GitHub, the HTML representation is unable to render, please try loading this page with nbviewer.org.</b></div><div class=\"sk-container\" hidden><div class=\"sk-item\"><div class=\"sk-estimator sk-toggleable\"><input class=\"sk-toggleable__control sk-hidden--visually\" id=\"sk-estimator-id-3\" type=\"checkbox\" checked><label for=\"sk-estimator-id-3\" class=\"sk-toggleable__label sk-toggleable__label-arrow\">RandomForestClassifier</label><div class=\"sk-toggleable__content\"><pre>RandomForestClassifier(random_state=42)</pre></div></div></div></div></div>"
            ]
          },
          "metadata": {},
          "execution_count": 68
        }
      ]
    },
    {
      "cell_type": "code",
      "source": [
        "\n",
        "# Step 8: Make predictions on the test set\n",
        "y_pred = rf_classifier.predict(X_test)"
      ],
      "metadata": {
        "id": "C0xcwx-Tt_bp"
      },
      "execution_count": null,
      "outputs": []
    },
    {
      "cell_type": "code",
      "source": [
        "# Step 9: Evaluate the model performance\n",
        "y_pred = rf_classifier.predict(X_test)"
      ],
      "metadata": {
        "id": "ibixSiNiuCIk"
      },
      "execution_count": null,
      "outputs": []
    },
    {
      "cell_type": "code",
      "source": [
        "# Step 8: Evaluate the model performance\n",
        "accuracy = accuracy_score(y_test, y_pred)\n",
        "precision = precision_score(y_test, y_pred)\n",
        "recall = recall_score(y_test, y_pred)\n",
        "f1 = f1_score(y_test, y_pred)\n"
      ],
      "metadata": {
        "id": "j-7NY2FxuKqA"
      },
      "execution_count": null,
      "outputs": []
    },
    {
      "cell_type": "code",
      "source": [
        "# Step 9: Print the evaluation metrics\n",
        "print(\"Accuracy:\", accuracy)\n",
        "print(\"Precision:\", precision)\n",
        "print(\"Recall:\", recall)\n",
        "print(\"F1 Score:\", f1)"
      ],
      "metadata": {
        "colab": {
          "base_uri": "https://localhost:8080/"
        },
        "id": "mDo-Kqr9uQxX",
        "outputId": "93e19d83-f384-4e57-a7ab-02e6d3d0611f"
      },
      "execution_count": null,
      "outputs": [
        {
          "output_type": "stream",
          "name": "stdout",
          "text": [
            "Accuracy: 0.8980150581793293\n",
            "Precision: 0.7692307692307693\n",
            "Recall: 0.03278688524590164\n",
            "F1 Score: 0.06289308176100629\n"
          ]
        }
      ]
    },
    {
      "cell_type": "markdown",
      "source": [
        "Here We have seen that by Improvising the Feature Engineering fearues, our accuracy has been overall increased.\n",
        "\n",
        "Precision has increased to  0.7692307692307693  from 0, Recall has increased to 0.03278688524590164 from 0, F1 score has increased to 0.06289308176100629 from 0\n"
      ],
      "metadata": {
        "id": "aQBQUmgJuYiH"
      }
    },
    {
      "cell_type": "markdown",
      "source": [
        "# **Reason Why Random Forest Classifier have less accuracy (underperformed) as compared to Updating The Performance of Random Forest Classifier**"
      ],
      "metadata": {
        "id": "guQUoPrJwanI"
      }
    },
    {
      "cell_type": "markdown",
      "source": [
        "The difference in overall accuracy between Code-1 and Code-2 could be due to various reasons. Here are a few possible factors that might have contributed to the difference:\n",
        "\n",
        "* **Additional feature engineering:** \n",
        "\n",
        "Code-2 performs additional feature engineering steps such as calculating the price difference between off-peak prices in December and January of the preceding year. These additional features could provide valuable information and improve the predictive performance of the model.\n",
        "\n",
        "* **Different data preprocessing: **\n",
        "\n",
        "Code-2 handles categorical columns by using a label encoder, while Code-1 does not explicitly handle categorical columns. By encoding categorical variables, Code-2 ensures that the model can effectively utilize this information, potentially leading to better performance.\n",
        "\n",
        "* **Different random state:** \n",
        "\n",
        "The train-test split in Code-1 and Code-2 uses a random state value of 42, but there could be other random factors involved in the model training process. Even with the same random state, different feature engineering and data preprocessing steps might lead to variations in the model's performance."
      ],
      "metadata": {
        "id": "EYD5jo_BwLM3"
      }
    },
    {
      "cell_type": "markdown",
      "source": [
        "# Why did you choose the evaluation metrics that you used? Please elaborate on your choices."
      ],
      "metadata": {
        "id": "K1jwlN3ZxDNa"
      }
    },
    {
      "cell_type": "markdown",
      "source": [
        "The evaluation metrics used in the code snippet (accuracy, precision, recall, and F1 score) are common metrics used to assess the performance of classification models. Here's an explanation of why these metrics were chosen:\n",
        "\n",
        "* **Accuracy:**\n",
        "\n",
        "Accuracy is a widely used metric that calculates the percentage of correctly predicted labels (both true positives and true negatives) out of the total number of predictions. It provides an overall measure of how well the model predicts the correct labels. However, accuracy alone might not be sufficient if the dataset is imbalanced, where one class dominates the other. In such cases, other metrics like precision, recall, and F1 score can provide additional insights.\n",
        "\n",
        "* **Precision:** \n",
        "\n",
        "Precision is the ratio of correctly predicted positive instances (true positives) to the total number of positive predictions (true positives + false positives). It measures how well the model identifies the positive class and is useful in scenarios where false positives are costly or undesirable. For example, in the context of churn prediction, precision represents the percentage of correctly identified churned customers out of all customers predicted as churned. A higher precision indicates a lower rate of false positives.\n",
        "\n",
        "* **Recall:**\n",
        " Recall, also known as sensitivity or true positive rate, is the ratio of correctly predicted positive instances (true positives) to the total number of actual positive instances (true positives + false negatives). It measures the ability of the model to correctly identify positive instances from the entire set of positive instances. In churn prediction, recall represents the percentage of correctly identified churned customers out of all actual churned customers. A higher recall indicates a lower rate of false negatives.\n",
        "\n",
        "* **F1 Score:** \n",
        "\n",
        "The F1 score is the harmonic mean of precision and recall and provides a balanced measure of a model's performance. It combines precision and recall into a single metric, making it useful when both false positives and false negatives are important. The F1 score ranges from 0 to 1, with a higher value indicating better performance. It is particularly useful when the dataset is imbalanced, as it considers both precision and recall."
      ],
      "metadata": {
        "id": "KOq47hyqxK1s"
      }
    },
    {
      "cell_type": "markdown",
      "source": [
        "# **Document the advantages and disadvantages of using the Random Forest for this use case.**"
      ],
      "metadata": {
        "id": "FTausY3mxkJU"
      }
    },
    {
      "cell_type": "markdown",
      "source": [
        "Advantages and disadvantages of Random Forest for this use case:\n",
        "\n",
        "# ***Advantages:***\n",
        "\n",
        "* Random Forest is an ensemble method that combines multiple decision trees, which can handle complex relationships and interactions between features.\n",
        "\n",
        "* It can handle a large number of features and automatically select the most informative ones for prediction.\n",
        "Random Forest is less prone to overfitting compared to individual decision trees.\n",
        "\n",
        "* It can handle both categorical and numerical features without requiring extensive preprocessing.\n",
        "\n",
        "# ***Disadvantages:***\n",
        "\n",
        "* Random Forest can be computationally expensive, especially with a large number of trees and features.\n",
        "\n",
        "* It may not provide easily interpretable explanations for individual predictions.\n",
        "\n",
        "* Random Forest may struggle with imbalanced datasets, where the number of churned cases is much smaller than non-churned cases. Techniques like class weighting or resampling strategies can be used to mitigate this issue."
      ],
      "metadata": {
        "id": "ZUQP1R2rxqki"
      }
    },
    {
      "cell_type": "markdown",
      "source": [
        "# **Do you think that the model performance is satisfactory? Give justification for your answer.**"
      ],
      "metadata": {
        "id": "N1gC9cIVzkzG"
      }
    },
    {
      "cell_type": "markdown",
      "source": [
        "Yes, the model performed well initially without good feature engineering, three of the four accuray parameter was showing zero, but after just increasing the amount of feature engineering, the threeof the four parametere drastically increased. So, model was satisfactory but because of bad feature engineering it failed to deilver good accuracy on three different parameteres\n"
      ],
      "metadata": {
        "id": "O-9gVgVuzpnV"
      }
    },
    {
      "cell_type": "markdown",
      "source": [
        "# **Bonus) - Relate the model performance to the client's financial performance with the introduction of the discount proposition. How much money could a client save with the use of the model? What assumptions did you make to come to this conclusion?**"
      ],
      "metadata": {
        "id": "vevry6LD0bCP"
      }
    },
    {
      "cell_type": "markdown",
      "source": [
        "Companies who have been only client for four month or less then four month are much more likely to churn compared to other client"
      ],
      "metadata": {
        "id": "hdK-a0-J0fPL"
      }
    }
  ],
  "metadata": {
    "interpreter": {
      "hash": "152bf6e7dc8ee53edb5af21dc1a8faeab7f134840808a94079ed98d91ece7e0c"
    },
    "kernelspec": {
      "display_name": "Python 3",
      "language": "python",
      "name": "python3"
    },
    "language_info": {
      "codemirror_mode": {
        "name": "ipython",
        "version": 3
      },
      "file_extension": ".py",
      "mimetype": "text/x-python",
      "name": "python",
      "nbconvert_exporter": "python",
      "pygments_lexer": "ipython3",
      "version": "3.7.9"
    },
    "colab": {
      "provenance": [],
      "toc_visible": true
    }
  },
  "nbformat": 4,
  "nbformat_minor": 0
}